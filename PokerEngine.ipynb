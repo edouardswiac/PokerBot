{
 "metadata": {
  "name": "",
  "signature": "sha256:fa811a078c677cd92f89288f182a89519cd783be86668b1d6fc66bf03ab5fa66"
 },
 "nbformat": 3,
 "nbformat_minor": 0,
 "worksheets": [
  {
   "cells": [
    {
     "cell_type": "code",
     "collapsed": false,
     "input": [
      "from deuces import Card\n",
      "from deuces import Evaluator\n",
      "from itertools import combinations\n",
      "import random"
     ],
     "language": "python",
     "metadata": {},
     "outputs": [],
     "prompt_number": 1
    },
    {
     "cell_type": "code",
     "collapsed": false,
     "input": [
      "#Populate dict with card values to save processing time later\n",
      "#Also add all integers to a numpy array for quick processing\n",
      "card = {}\n",
      "deck = []\n",
      "ranked_hands = []\n",
      "evaluator = Evaluator()\n",
      "\n",
      "n = 0\n",
      "for i in ['2', '3', '4', '5', '6', '7', '8', '9', 'T', 'J', 'Q', 'K', 'A']:\n",
      "    for j in ['s', 'h', 'c', 'd']:\n",
      "        card[i+j] = Card.new(i+j)\n",
      "        deck.append(Card.new(i+j))\n",
      "        n += 1\n",
      "        \n",
      "for hand in combinations([card['As'], card['Ad'], card['Ac'], card['Ah']], 2):\n",
      "    ranked_hands.append(set(hand))\n",
      "\n",
      "for hand in combinations([card['Ks'], card['Kd'], card['Kc'], card['Kh']], 2):\n",
      "    ranked_hands.append(set(hand))\n",
      "    \n",
      "for hand in combinations([card['Qs'], card['Qd'], card['Qc'], card['Qh']], 2):\n",
      "    ranked_hands.append(set(hand))\n",
      "\n",
      "ranked_hands.append(set((card['As'], card['Ks'])))\n",
      "ranked_hands.append(set((card['Ad'], card['Kd'])))\n",
      "ranked_hands.append(set((card['Ac'], card['Kc'])))\n",
      "ranked_hands.append(set((card['Ah'], card['Kh'])))\n",
      "        \n",
      "for hand in combinations([card['Js'], card['Jd'], card['Jc'], card['Jh']], 2):\n",
      "    ranked_hands.append(set(hand))\n",
      "    \n",
      "ranked_hands.append(set((card['As'], card['Qs'])))\n",
      "ranked_hands.append(set((card['Ad'], card['Qd'])))\n",
      "ranked_hands.append(set((card['Ac'], card['Qc'])))\n",
      "ranked_hands.append(set((card['Ah'], card['Qh'])))\n",
      "\n",
      "ranked_hands.append(set((card['Ks'], card['Qs'])))\n",
      "ranked_hands.append(set((card['Kd'], card['Qd'])))\n",
      "ranked_hands.append(set((card['Kc'], card['Qc'])))\n",
      "ranked_hands.append(set((card['Kh'], card['Qh'])))\n",
      "\n",
      "ranked_hands.append(set((card['As'], card['Js'])))\n",
      "ranked_hands.append(set((card['Ad'], card['Jd'])))\n",
      "ranked_hands.append(set((card['Ac'], card['Jc'])))\n",
      "ranked_hands.append(set((card['Ah'], card['Jh'])))\n",
      "\n",
      "\n",
      "ranked_hands.append(set((card['Ks'], card['Js'])))\n",
      "ranked_hands.append(set((card['Kd'], card['Jd'])))\n",
      "ranked_hands.append(set((card['Kc'], card['Jc'])))\n",
      "ranked_hands.append(set((card['Kh'], card['Jh'])))\n",
      "\n",
      "for hand in combinations([card['Ts'], card['Td'], card['Tc'], card['Th']], 2):\n",
      "    ranked_hands.append(set(hand))\n",
      "    \n",
      "\"\"\" \n",
      "print type(ranked_hands)\n",
      "for hand in ranked_hands:\n",
      "    Card.print_pretty_cards(list(hand))\n",
      "\"\"\"\n",
      "\n",
      "\n",
      "print ranked_hands[:]"
     ],
     "language": "python",
     "metadata": {},
     "outputs": [
      {
       "output_type": "stream",
       "stream": "stdout",
       "text": [
        "[set([268442665, 268454953]), set([268442665, 268471337]), set([268442665, 268446761]), set([268454953, 268471337]), set([268454953, 268446761]), set([268471337, 268446761]), set([134224677, 134236965]), set([134224677, 134253349]), set([134224677, 134228773]), set([134236965, 134253349]), set([134236965, 134228773]), set([134253349, 134228773]), set([67127839, 67115551]), set([67144223, 67115551]), set([67119647, 67115551]), set([67144223, 67127839]), set([67119647, 67127839]), set([67119647, 67144223]), set([268442665, 134224677]), set([268454953, 134236965]), set([268471337, 134253349]), set([268446761, 134228773]), set([33560861, 33573149]), set([33560861, 33589533]), set([33560861, 33564957]), set([33573149, 33589533]), set([33573149, 33564957]), set([33589533, 33564957]), set([268442665, 67115551]), set([268454953, 67127839]), set([268471337, 67144223]), set([268446761, 67119647]), set([134224677, 67115551]), set([134236965, 67127839]), set([134253349, 67144223]), set([134228773, 67119647]), set([268442665, 33560861]), set([268454953, 33573149]), set([268471337, 33589533]), set([268446761, 33564957]), set([134224677, 33560861]), set([134236965, 33573149]), set([134253349, 33589533]), set([134228773, 33564957]), set([16795671, 16783383]), set([16812055, 16783383]), set([16787479, 16783383]), set([16812055, 16795671]), set([16787479, 16795671]), set([16787479, 16812055])]\n"
       ]
      }
     ],
     "prompt_number": 159
    },
    {
     "cell_type": "code",
     "collapsed": false,
     "input": [
      "def is_best_hand(hole, other_hands, board):\n",
      "    my_score = evaluator.evaluate(hole, board)\n",
      "    for hand in other_hands:\n",
      "        if my_score > evaluator.evaluate(hand, board):\n",
      "            return False\n",
      "    return True"
     ],
     "language": "python",
     "metadata": {},
     "outputs": [],
     "prompt_number": 160
    },
    {
     "cell_type": "code",
     "collapsed": false,
     "input": [
      "def hand_strength(hole, board, num_players, trials = 100, possible_hands = []):\n",
      "    wins = 0.\n",
      "    for i in range(trials):\n",
      "        other_hands = []\n",
      "        temp_deck = deck[:] #make a copy of the deck!\n",
      "\n",
      "        #remove hole and board cards from deck\n",
      "        for card in board + hole:\n",
      "            temp_deck.remove(card)\n",
      "            \n",
      "        \n",
      "        #shuffle the deck\n",
      "        random.shuffle(temp_deck)\n",
      "\n",
      "        #deal board cards\n",
      "        \n",
      "        temp_board = board[:]\n",
      "        for i in range(0 , 5 - len(board)):\n",
      "            temp_board.append(temp_deck.pop())\n",
      "\n",
      "        \n",
      "        \n",
      "        #deal out cards to the other players\n",
      "        \n",
      "        if len(possible_hands) == 0:\n",
      "            for i in range(num_players):   \n",
      "                other_hands.append([temp_deck.pop(),temp_deck.pop()])\n",
      "          \n",
      "        else:        \n",
      "            hands = possible_hands[:]\n",
      "            for i in range(num_players):   \n",
      "                while(True):\n",
      "                    rand_hand = random.choice(hands)\n",
      "                    if rand_hand.issubset(set(temp_deck)):\n",
      "                        hands.remove(rand_hand)  \n",
      "                        other_hands.append(list(rand_hand))\n",
      "                        break;\n",
      "                    else:\n",
      "                        hands.remove(rand_hand)\n",
      "\n",
      "                other_hands.append([temp_deck.pop(), temp_deck.pop()])\n",
      "            \n",
      "        \n",
      "\n",
      "        #check if we won\n",
      "        if is_best_hand(hole, other_hands, temp_board):\n",
      "            wins += 1\n",
      "    \n",
      "    return wins / trials\n",
      "        \n",
      "    \n",
      "    \n",
      "\n",
      "\n",
      "\n",
      "\n"
     ],
     "language": "python",
     "metadata": {},
     "outputs": [],
     "prompt_number": 168
    },
    {
     "cell_type": "code",
     "collapsed": false,
     "input": [
      "hole = [card['As'], card['Ad']]\n",
      "board = []\n",
      "hand_strength(hole, board, players, 10000, possible_hands = [])"
     ],
     "language": "python",
     "metadata": {},
     "outputs": [
      {
       "metadata": {},
       "output_type": "pyout",
       "prompt_number": 212,
       "text": [
        "0.317"
       ]
      }
     ],
     "prompt_number": 212
    },
    {
     "cell_type": "code",
     "collapsed": false,
     "input": [
      "(random.choice(ranked_hands)).issubset()"
     ],
     "language": "python",
     "metadata": {},
     "outputs": [
      {
       "ename": "TypeError",
       "evalue": "issubset() takes exactly one argument (0 given)",
       "output_type": "pyerr",
       "traceback": [
        "\u001b[0;31m---------------------------------------------------------------------------\u001b[0m\n\u001b[0;31mTypeError\u001b[0m                                 Traceback (most recent call last)",
        "\u001b[0;32m<ipython-input-151-634d98ee2782>\u001b[0m in \u001b[0;36m<module>\u001b[0;34m()\u001b[0m\n\u001b[0;32m----> 1\u001b[0;31m \u001b[0;34m(\u001b[0m\u001b[0mrandom\u001b[0m\u001b[0;34m.\u001b[0m\u001b[0mchoice\u001b[0m\u001b[0;34m(\u001b[0m\u001b[0mranked_hands\u001b[0m\u001b[0;34m)\u001b[0m\u001b[0;34m)\u001b[0m\u001b[0;34m.\u001b[0m\u001b[0missubset\u001b[0m\u001b[0;34m(\u001b[0m\u001b[0;34m)\u001b[0m\u001b[0;34m\u001b[0m\u001b[0m\n\u001b[0m",
        "\u001b[0;31mTypeError\u001b[0m: issubset() takes exactly one argument (0 given)"
       ]
      }
     ],
     "prompt_number": 151
    },
    {
     "cell_type": "code",
     "collapsed": false,
     "input": [
      "(random.choice(ranked_hands)).issubset"
     ],
     "language": "python",
     "metadata": {},
     "outputs": []
    },
    {
     "cell_type": "code",
     "collapsed": false,
     "input": [
      "random.choice(ranked_hands).issubset"
     ],
     "language": "python",
     "metadata": {},
     "outputs": []
    },
    {
     "cell_type": "code",
     "collapsed": false,
     "input": [
      "random.choice(ranked_hands).isubset"
     ],
     "language": "python",
     "metadata": {},
     "outputs": []
    },
    {
     "cell_type": "code",
     "collapsed": false,
     "input": [
      "random.choice(ranked_hands).issubset"
     ],
     "language": "python",
     "metadata": {},
     "outputs": []
    },
    {
     "cell_type": "code",
     "collapsed": false,
     "input": [
      "ranked_hands = ranked_hands[:]\n",
      "#print ranked_hands[1]\n",
      "print random.choice(ranked_hands)\n"
     ],
     "language": "python",
     "metadata": {},
     "outputs": [
      {
       "output_type": "stream",
       "stream": "stdout",
       "text": [
        "set([268446761, 67119647])\n"
       ]
      }
     ],
     "prompt_number": 63
    },
    {
     "cell_type": "code",
     "collapsed": false,
     "input": [
      "hands = [set((1,2)), set((2,4))]\n",
      "print hands\n",
      "rand_hand = random.choice(hands)\n",
      "print rand_hand\n",
      "hands.remove(rand_hand)\n",
      "print hands\n"
     ],
     "language": "python",
     "metadata": {},
     "outputs": [
      {
       "output_type": "stream",
       "stream": "stdout",
       "text": [
        "[set([1, 2]), set([2, 4])]\n",
        "set([1, 2])\n",
        "[set([2, 4])]\n"
       ]
      }
     ],
     "prompt_number": 137
    },
    {
     "cell_type": "code",
     "collapsed": false,
     "input": [],
     "language": "python",
     "metadata": {},
     "outputs": []
    }
   ],
   "metadata": {}
  }
 ]
}