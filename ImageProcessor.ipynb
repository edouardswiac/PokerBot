{
 "cells": [
  {
   "cell_type": "code",
   "execution_count": 1,
   "metadata": {
    "collapsed": false
   },
   "outputs": [],
   "source": [
    "from scipy import ndimage\n",
    "from deuces.card import Card\n",
    "from scipy import misc\n",
    "from scipy import ndimage\n",
    "import matplotlib.pyplot as plt\n",
    "import numpy as np\n",
    "from pytesser import *\n",
    "#from skimage.feature import match_template\n",
    "#import skimage.feature\n",
    "import os\n",
    "import PIL\n",
    "import time\n",
    "import pyautogui as gui\n",
    "import re\n",
    "%matplotlib inline\n"
   ]
  },
  {
   "cell_type": "code",
   "execution_count": 12,
   "metadata": {
    "collapsed": false
   },
   "outputs": [],
   "source": [
    "# coding: utf-8\n",
    "# %load ImageProcessor.py\n",
    "# %load ImageProcessor.py\n",
    "#%save ImageProcessor.py 12\n",
    "\n",
    "from scipy import ndimage\n",
    "from deuces.card import Card\n",
    "from scipy import misc\n",
    "from scipy import ndimage\n",
    "import matplotlib.pyplot as plt\n",
    "import numpy as np\n",
    "from pytesser import *\n",
    "import os\n",
    "import PIL\n",
    "import time\n",
    "import pyautogui as gui\n",
    "import re\n",
    "import time\n",
    "get_ipython().magic(u'matplotlib inline')\n",
    "\n",
    "class Frame(): \n",
    "    def __init__(self, blinds = .05):\n",
    "        '''Locate the Bovada window and initialize variables '''\n",
    "    \n",
    "        ## initialize the bovada logo reference image\n",
    "        ## Everytime the frame updates, it must locate the Bovada logo as a reference point\n",
    "        self.BOVADA_REF_IMG = PIL.Image.open(\"reference_images/BOVADA.png\")\n",
    "        \n",
    "        self.blinds = blinds\n",
    "        \n",
    "        ## These are the coordinates of where the important values\n",
    "        ## exist in the frame, relative to the bovada logo\n",
    "        ## top left and bottom right coords of bounding box\n",
    "        self.LOCATIONS = {\n",
    "                'hole1' : ((353, 428),(401, 496)), \n",
    "                'hole2' : ((403, 428),(451, 496)), \n",
    "                'board1' : ((269,242), (317, 310)),\n",
    "                'board2' : ((323,242), (371, 310)), \n",
    "                'board3' : ((377,242), (425, 310)),\n",
    "                'board4' : ((431,242), (479, 310)), \n",
    "                'board5' : ((485,242), (533, 310)),\n",
    "                'pot'    : ((350, 312), (470, 330)),\n",
    "                'blinds' : ((0, 35), (150, 50)),\n",
    "                'textBar': ((670, 590),(750, 605)),\n",
    "                'fold'   : ((420, 560), (520, 580)),\n",
    "                'stack0' : ((380, 470), (480, 495)),\n",
    "                'stack1' : ((70, 395), (170, 420)),\n",
    "                'stack2' : ((70, 180), (170, 205)),\n",
    "                'stack3' : ((330, 105), (430, 130)),\n",
    "                'stack4' : ((630, 180), (730, 205)),\n",
    "                'stack5' : ((630, 395), (730, 420)),\n",
    "                'bet0'   : ((390, 410),(490, 425)),\n",
    "                'bet1'   : ((190, 355), (300, 370)),\n",
    "                'bet2'   : ((190, 230), (300, 245)),\n",
    "                'bet3'   : ((400, 172), (500, 185)),\n",
    "                'bet4'   : ((560, 232), (680, 245)),\n",
    "                'bet5'   : ((580, 347), (680, 360))\n",
    "        }                  \n",
    "        \n",
    "        \n",
    "        \n",
    "        ## Coordinates of where dealer button can exist\n",
    "        self.DEALER_LOC = [(264, 422),(137,302),(220, 165),(530, 150),(660, 275),(570, 408)]\n",
    "        \n",
    "        ## save a screen shot   \n",
    "        os.system(\"screencapture screenshots/test.jpg\")\n",
    "        \n",
    "        ## locate the bovada symbol on screen to find the bovada window\n",
    "        try:\n",
    "            self.x,self.y,width,height = gui.locate(self.BOVADA_REF_IMG, PIL.Image.open(\"screenshots/test.jpg\"))\n",
    "        except TypeError:\n",
    "            raise Exception(\"Can't locate frame\")\n",
    "\n",
    "             \n",
    "        ## save the bovada application window (as an image)\n",
    "        img = misc.imread('screenshots/test.jpg', flatten = True)\n",
    "        self.frame = img[self.y:self.y + 650, self.x:self.x + 750]  \n",
    "        \n",
    "        \n",
    "        ## load the suit reference functions used to identify card suits\n",
    "        self.SUIT_REF_FUNCTIONS = []\n",
    "        heart = misc.imread(\"reference_images/suits/HEART.jpg\", flatten = True)\n",
    "        diamond = misc.imread(\"reference_images/suits/DIAMOND.jpg\", flatten = True)\n",
    "        spade = misc.imread(\"reference_images/suits/SPADE.jpg\", flatten = True)\n",
    "        club = misc.imread(\"reference_images/suits/CLUB.jpg\", flatten = True) \n",
    "        self.SUIT_REF_FUNCTIONS.append(('h', heart.sum(axis = 1)))\n",
    "        self.SUIT_REF_FUNCTIONS.append(('c', club.sum(axis = 1)))\n",
    "        self.SUIT_REF_FUNCTIONS.append(('d', diamond.sum(axis = 1)))\n",
    "        self.SUIT_REF_FUNCTIONS.append(('s', spade.sum(axis = 1)))\n",
    "        \n",
    "        \n",
    "    def update(self):\n",
    "        #Takes a picture of the frame, assuming the frame has not moved from previous position\n",
    "        os.system(\"screencapture screenshots/test.jpg\")\n",
    "        img = misc.imread('screenshots/test.jpg', flatten = True)\n",
    "        self.frame = img[self.y:self.y + 650, self.x:self.x + 750]  \n",
    "        \n",
    "    \n",
    "    \n",
    "    def identify_card(self, card_str):\n",
    "        '''Locates card on screen given by card_str parameter and returns a string identifying the card.\n",
    "           As is Ace of spades, Tc is ten of clubs, etc.\n",
    "           \n",
    "           params : hole1, hole2, board1, board2, ect...'''\n",
    "              \n",
    "        v = self.LOCATIONS[card_str]\n",
    "        card_img = self.frame[v[0][1]:v[1][1], v[0][0]:v[1][0]] \n",
    "        num_img = card_img[2:19, 0:19]\n",
    "        suit_img = card_img[19:35, :17]\n",
    "         \n",
    "        \n",
    "        ## identify the number\n",
    "        blank = np.ones((num_img.shape[0] * 2, num_img.shape[1] * 7))*245\n",
    "        for i in range(0, 20*6, 20):\n",
    "            blank[:num_img.shape[0], i :num_img.shape[1] + i] = num_img\n",
    "               \n",
    "        num_img = PIL.Image.fromarray(np.uint8(blank))\n",
    "        num_str =  image_to_string(num_img)\n",
    "        \n",
    "        ## tesseract reads 10 as 1 because it's just grabbing the first digit    \n",
    "        try:\n",
    "            num_str = num_str[0]\n",
    "            if num_str == '1':\n",
    "                num_str = 'T'\n",
    "        except IndexError:\n",
    "            return 'None'\n",
    "        \n",
    "        \n",
    "    \n",
    "        f = suit_img.sum(axis = 1)\n",
    "        diff = lambda x : abs((f**2 - x[1]**2).sum())\n",
    "        suit_str = min(self.SUIT_REF_FUNCTIONS, key = diff)[0]\n",
    "                \n",
    "        \n",
    "        return num_str + suit_str\n",
    "    \n",
    "    \n",
    "    def read_value(self, loc):\n",
    "        pos = self.LOCATIONS[loc]\n",
    "        v = self.frame[pos[0][1]:pos[1][1], pos[0][0]:pos[1][0]]\n",
    "        x,y = v.shape\n",
    "        f = PIL.Image.fromarray(np.uint8(v))\n",
    "        #f.show()\n",
    "        basewidth = 300\n",
    "        wpercent = (basewidth/float(f.size[0]))\n",
    "        hsize = int((float(f.size[1])*float(wpercent)))\n",
    "        img = f.resize((basewidth,hsize), PIL.Image.ANTIALIAS)\n",
    "        #img.show()\n",
    "        s = image_to_string(img)\n",
    "        #print s\n",
    "        \n",
    "        \n",
    "        if loc is 'blinds':\n",
    "            non_decimal = re.compile(r'[^\\d,]+')\n",
    "            s = non_decimal.sub(' ', s)\n",
    "            s = s.replace(',', '')\n",
    "            s = s.split(' ')[1]\n",
    "            \n",
    "        else:\n",
    "            non_decimal = re.compile(r'[^\\d.]+')\n",
    "            s = non_decimal.sub('', s)\n",
    "        \n",
    "        return s\n",
    "                 \n",
    "    def bet(self, n):\n",
    "        v = self.LOCATIONS['textBar']\n",
    "        gui.moveTo(np.random.randint(v[0][0] + self.x, v[1][0] + self.x),\n",
    "                   np.random.randint(v[0][1] + self.y, v[1][1] + self.y), \n",
    "                   duration = .5)\n",
    "        gui.click()\n",
    "        gui.typewrite(str(n), interval=0.25)\n",
    "        gui.press('enter')\n",
    "    \n",
    "    def fold(self):\n",
    "        v = self.LOCATIONS['fold']\n",
    "        gui.moveTo(np.random.randint(v[0][0] + self.x, v[1][0] + self.x),\n",
    "                   np.random.randint(v[0][1] + self.y, v[1][1] + self.y), \n",
    "                   duration = .5)\n",
    "        \n",
    "        time.sleep(.5)\n",
    "        gui.click()\n",
    "\n",
    "\n",
    "    def user_position(self):\n",
    "        positions = ['D', 'SB', 'BB','UTG', 'MP', 'CO']\n",
    "        color = lambda x : self.frame[x[1], x[0]]\n",
    "        button = self.DEALER_LOC.index(max(self.DEALER_LOC, key = color))\n",
    "        return positions[(6 - button) % 6]\n",
    "    \n",
    "    def in_hand(self):\n",
    "        in_hand = np.empty(6, dtype='bool')\n",
    "        for i in range(6):\n",
    "            pos = self.LOCATIONS['stack%s'%i]\n",
    "            slice = self.frame[pos[0][1]:pos[1][1], pos[0][0]:pos[1][0]]\n",
    "            in_hand[i] = len(slice[slice > 200]) > 50\n",
    "        return in_hand\n",
    "    \n",
    "    def bets(self):\n",
    "        bets = np.zeros(5)\n",
    "        for i in range(1, 6):\n",
    "            bet = self.read_value('bet%s'%i)      \n",
    "            try:\n",
    "                bets[i - 1] = bet\n",
    "            except ValueError:\n",
    "                bets[i - 1] = 0\n",
    "        return bets\n",
    "            \n",
    "    \n",
    "    def is_user_turn(self):\n",
    "        pos = self.LOCATIONS['stack0']\n",
    "        slice = self.frame[pos[0][1] + 30:pos[1][1]+20, pos[0][0]:pos[1][0]]\n",
    "        #plt.imshow(slice)\n",
    "        #bins = plt.hist(slice)\n",
    "        return len(slice[slice > 50]) > 50\n",
    "    \n",
    "    \n",
    "    def is_unopened(self):\n",
    "        return len(a[a == .5]) == 1\n",
    "    \n",
    "    \n",
    "    \n",
    "    \n",
    "                "
   ]
  },
  {
   "cell_type": "code",
   "execution_count": 58,
   "metadata": {
    "collapsed": false
   },
   "outputs": [],
   "source": [
    "frame = Frame()"
   ]
  },
  {
   "cell_type": "code",
   "execution_count": 99,
   "metadata": {
    "collapsed": false
   },
   "outputs": [
    {
     "name": "stdout",
     "output_type": "stream",
     "text": [
      "  [ 9 ❤ ] , [ T ♠ ] , [ 7 ♠ ]  \n",
      "pot: 57.96\n",
      "dealer position:  3\n",
      "blinds:  2\n"
     ]
    }
   ],
   "source": [
    "frame.update()\n",
    "'''\n",
    "\n",
    "pocket1 = Card.new(frame.identify_card('hole1'))\n",
    "pocket2 = Card.new(frame.identify_card('hole2'))\n",
    "\n",
    "hand = [pocket1, pocket2]'''\n",
    "    \n",
    "board = []\n",
    "for i in range(1, 6):\n",
    "    card = frame.identify_card('board%s'%i)\n",
    "    if card is not 'None':\n",
    "        board.append(Card.new(card))\n",
    "        \n",
    "\n",
    "Card.print_pretty_cards(board)\n",
    "#Card.print_pretty_cards(hole)\n",
    "\n",
    "print 'pot:' , frame.read_value('pot')\n",
    "'''\n",
    "for i in range(6):\n",
    "    try:\n",
    "        print 'player %s : '%i ,frame.read_value(i)\n",
    "    except: \"cant red %s\"%i\n",
    "        '''\n",
    "print 'dealer position: ' , frame.dealer_position()\n",
    "print 'blinds: ' , frame.read_value('blinds')\n",
    "        \n",
    "      \n",
    "        \n",
    "       "
   ]
  },
  {
   "cell_type": "code",
   "execution_count": 3,
   "metadata": {
    "collapsed": false
   },
   "outputs": [],
   "source": [
    "frame = Frame()"
   ]
  },
  {
   "cell_type": "code",
   "execution_count": 7,
   "metadata": {
    "collapsed": false
   },
   "outputs": [
    {
     "name": "stdout",
     "output_type": "stream",
     "text": [
      " 0.05 \n"
     ]
    },
    {
     "data": {
      "image/png": "[encoded data removed]",
      "text/plain": [
       "<matplotlib.figure.Figure at 0x10d10cd90>"
      ]
     },
     "metadata": {},
     "output_type": "display_data"
    }
   ],
   "source": [
    "#frame.update()\n",
    "f = frame.frame\n",
    "plt.imshow(f)\n",
    "\n",
    "y1 = 410\n",
    "y2 = 425\n",
    "x1 = 390\n",
    "x2 = 480\n",
    "\n",
    "(390, 410),(490, 425)\n",
    "\n",
    "\n",
    "\n",
    "f = f[y1:y2, x1:x2]\n",
    "f = PIL.Image.fromarray(np.uint8(f))\n",
    "\n",
    "def scale(f):\n",
    "    basewidth = 300\n",
    "    wpercent = (basewidth/float(f.size[0]))\n",
    "    hsize = int((float(f.size[1])*float(wpercent)))\n",
    "    img = f.resize((basewidth,hsize), PIL.Image.ANTIALIAS)\n",
    "    img.show()\n",
    "    return img\n",
    "\n",
    "f = scale(f)\n",
    "s = image_to_string(f)\n",
    "non_decimal = re.compile(r'[^\\d.]+')\n",
    "s = non_decimal.sub(' ', s)\n",
    "print s"
   ]
  },
  {
   "cell_type": "code",
   "execution_count": 68,
   "metadata": {
    "collapsed": true
   },
   "outputs": [],
   "source": [
    "frame = Frame()"
   ]
  },
  {
   "cell_type": "code",
   "execution_count": 72,
   "metadata": {
    "collapsed": false
   },
   "outputs": [
    {
     "data": {
      "text/plain": [
       "array([ 0.  ,  0.05,  0.  ,  0.  ,  0.02])"
      ]
     },
     "execution_count": 72,
     "metadata": {},
     "output_type": "execute_result"
    }
   ],
   "source": [
    "frame.update()\n",
    "frame.bets()"
   ]
  },
  {
   "cell_type": "code",
   "execution_count": 60,
   "metadata": {
    "collapsed": false
   },
   "outputs": [
    {
     "ename": "ValueError",
     "evalue": "could not convert string to float: a",
     "output_type": "error",
     "traceback": [
      "\u001b[0;31m---------------------------------------------------------------------------\u001b[0m",
      "\u001b[0;31mValueError\u001b[0m                                Traceback (most recent call last)",
      "\u001b[0;32m<ipython-input-60-99859da4e72c>\u001b[0m in \u001b[0;36m<module>\u001b[0;34m()\u001b[0m\n\u001b[0;32m----> 1\u001b[0;31m \u001b[0mfloat\u001b[0m\u001b[0;34m(\u001b[0m\u001b[0;34m'a'\u001b[0m\u001b[0;34m)\u001b[0m\u001b[0;34m\u001b[0m\u001b[0m\n\u001b[0m",
      "\u001b[0;31mValueError\u001b[0m: could not convert string to float: a"
     ]
    }
   ],
   "source": []
  },
  {
   "cell_type": "code",
   "execution_count": 84,
   "metadata": {
    "collapsed": false
   },
   "outputs": [
    {
     "data": {
      "text/plain": [
       "2"
      ]
     },
     "execution_count": 84,
     "metadata": {},
     "output_type": "execute_result"
    }
   ],
   "source": [
    "a = np.array([.2, .5, .5, 0, 0])\n",
    "len(a[a == .5])"
   ]
  },
  {
   "cell_type": "code",
   "execution_count": null,
   "metadata": {
    "collapsed": true
   },
   "outputs": [],
   "source": []
  }
 ],
 "metadata": {
  "kernelspec": {
   "display_name": "Python 2",
   "language": "python",
   "name": "python2"
  },
  "language_info": {
   "codemirror_mode": {
    "name": "ipython",
    "version": 2
   },
   "file_extension": ".py",
   "mimetype": "text/x-python",
   "name": "python",
   "nbconvert_exporter": "python",
   "pygments_lexer": "ipython2",
   "version": "2.7.6"
  }
 },
 "nbformat": 4,
 "nbformat_minor": 0
}
